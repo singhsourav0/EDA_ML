{
  "nbformat": 4,
  "nbformat_minor": 0,
  "metadata": {
    "colab": {
      "provenance": [],
      "authorship_tag": "ABX9TyOJr4tbqxSpFbStL8Y3ge63",
      "include_colab_link": true
    },
    "kernelspec": {
      "name": "python3",
      "display_name": "Python 3"
    },
    "language_info": {
      "name": "python"
    }
  },
  "cells": [
    {
      "cell_type": "markdown",
      "metadata": {
        "id": "view-in-github",
        "colab_type": "text"
      },
      "source": [
        "<a href=\"https://colab.research.google.com/github/singhsourav0/EDA_ML/blob/main/Titanic_Dataset.ipynb\" target=\"_parent\"><img src=\"https://colab.research.google.com/assets/colab-badge.svg\" alt=\"Open In Colab\"/></a>"
      ]
    },
    {
      "cell_type": "markdown",
      "source": [
        "This Repository focus on analysing data and plot their state using **seaborn** and **matplolib**\n",
        "owner: SOURAV KUMAR(@singhsourav0)"
      ],
      "metadata": {
        "id": "sUqpTnk2A3z7"
      }
    },
    {
      "cell_type": "code",
      "source": [
        "import pandas as pd\n",
        "import seaborn as sns\n",
        "import matplotlib as plt"
      ],
      "metadata": {
        "id": "4gmduOjHg2sf"
      },
      "execution_count": 74,
      "outputs": []
    },
    {
      "cell_type": "code",
      "source": [
        "\n",
        "df = pd.read_csv('train11.csv')"
      ],
      "metadata": {
        "id": "-TKeWc21hWHf"
      },
      "execution_count": 46,
      "outputs": []
    },
    {
      "cell_type": "code",
      "source": [
        "df.head()"
      ],
      "metadata": {
        "colab": {
          "base_uri": "https://localhost:8080/",
          "height": 504
        },
        "id": "nDT7Sk12hiCa",
        "outputId": "50708dfd-2f58-4df9-e492-4a1f40d10e9e"
      },
      "execution_count": 47,
      "outputs": [
        {
          "output_type": "execute_result",
          "data": {
            "text/plain": [
              "   PassengerId  Survived  Pclass  \\\n",
              "0            1         0       3   \n",
              "1            2         1       1   \n",
              "2            3         1       3   \n",
              "3            4         1       1   \n",
              "4            5         0       3   \n",
              "\n",
              "                                                Name     Sex   Age  SibSp  \\\n",
              "0                            Braund, Mr. Owen Harris    male  22.0      1   \n",
              "1  Cumings, Mrs. John Bradley (Florence Briggs Th...  female  38.0      1   \n",
              "2                             Heikkinen, Miss. Laina  female  26.0      0   \n",
              "3       Futrelle, Mrs. Jacques Heath (Lily May Peel)  female  35.0      1   \n",
              "4                           Allen, Mr. William Henry    male  35.0      0   \n",
              "\n",
              "   Parch            Ticket     Fare Cabin Embarked  \n",
              "0      0         A/5 21171   7.2500   NaN        S  \n",
              "1      0          PC 17599  71.2833   C85        C  \n",
              "2      0  STON/O2. 3101282   7.9250   NaN        S  \n",
              "3      0            113803  53.1000  C123        S  \n",
              "4      0            373450   8.0500   NaN        S  "
            ],
            "text/html": [
              "\n",
              "  <div id=\"df-2126db68-8e91-46d9-ac69-ae6297958b39\" class=\"colab-df-container\">\n",
              "    <div>\n",
              "<style scoped>\n",
              "    .dataframe tbody tr th:only-of-type {\n",
              "        vertical-align: middle;\n",
              "    }\n",
              "\n",
              "    .dataframe tbody tr th {\n",
              "        vertical-align: top;\n",
              "    }\n",
              "\n",
              "    .dataframe thead th {\n",
              "        text-align: right;\n",
              "    }\n",
              "</style>\n",
              "<table border=\"1\" class=\"dataframe\">\n",
              "  <thead>\n",
              "    <tr style=\"text-align: right;\">\n",
              "      <th></th>\n",
              "      <th>PassengerId</th>\n",
              "      <th>Survived</th>\n",
              "      <th>Pclass</th>\n",
              "      <th>Name</th>\n",
              "      <th>Sex</th>\n",
              "      <th>Age</th>\n",
              "      <th>SibSp</th>\n",
              "      <th>Parch</th>\n",
              "      <th>Ticket</th>\n",
              "      <th>Fare</th>\n",
              "      <th>Cabin</th>\n",
              "      <th>Embarked</th>\n",
              "    </tr>\n",
              "  </thead>\n",
              "  <tbody>\n",
              "    <tr>\n",
              "      <th>0</th>\n",
              "      <td>1</td>\n",
              "      <td>0</td>\n",
              "      <td>3</td>\n",
              "      <td>Braund, Mr. Owen Harris</td>\n",
              "      <td>male</td>\n",
              "      <td>22.0</td>\n",
              "      <td>1</td>\n",
              "      <td>0</td>\n",
              "      <td>A/5 21171</td>\n",
              "      <td>7.2500</td>\n",
              "      <td>NaN</td>\n",
              "      <td>S</td>\n",
              "    </tr>\n",
              "    <tr>\n",
              "      <th>1</th>\n",
              "      <td>2</td>\n",
              "      <td>1</td>\n",
              "      <td>1</td>\n",
              "      <td>Cumings, Mrs. John Bradley (Florence Briggs Th...</td>\n",
              "      <td>female</td>\n",
              "      <td>38.0</td>\n",
              "      <td>1</td>\n",
              "      <td>0</td>\n",
              "      <td>PC 17599</td>\n",
              "      <td>71.2833</td>\n",
              "      <td>C85</td>\n",
              "      <td>C</td>\n",
              "    </tr>\n",
              "    <tr>\n",
              "      <th>2</th>\n",
              "      <td>3</td>\n",
              "      <td>1</td>\n",
              "      <td>3</td>\n",
              "      <td>Heikkinen, Miss. Laina</td>\n",
              "      <td>female</td>\n",
              "      <td>26.0</td>\n",
              "      <td>0</td>\n",
              "      <td>0</td>\n",
              "      <td>STON/O2. 3101282</td>\n",
              "      <td>7.9250</td>\n",
              "      <td>NaN</td>\n",
              "      <td>S</td>\n",
              "    </tr>\n",
              "    <tr>\n",
              "      <th>3</th>\n",
              "      <td>4</td>\n",
              "      <td>1</td>\n",
              "      <td>1</td>\n",
              "      <td>Futrelle, Mrs. Jacques Heath (Lily May Peel)</td>\n",
              "      <td>female</td>\n",
              "      <td>35.0</td>\n",
              "      <td>1</td>\n",
              "      <td>0</td>\n",
              "      <td>113803</td>\n",
              "      <td>53.1000</td>\n",
              "      <td>C123</td>\n",
              "      <td>S</td>\n",
              "    </tr>\n",
              "    <tr>\n",
              "      <th>4</th>\n",
              "      <td>5</td>\n",
              "      <td>0</td>\n",
              "      <td>3</td>\n",
              "      <td>Allen, Mr. William Henry</td>\n",
              "      <td>male</td>\n",
              "      <td>35.0</td>\n",
              "      <td>0</td>\n",
              "      <td>0</td>\n",
              "      <td>373450</td>\n",
              "      <td>8.0500</td>\n",
              "      <td>NaN</td>\n",
              "      <td>S</td>\n",
              "    </tr>\n",
              "  </tbody>\n",
              "</table>\n",
              "</div>\n",
              "    <div class=\"colab-df-buttons\">\n",
              "\n",
              "  <div class=\"colab-df-container\">\n",
              "    <button class=\"colab-df-convert\" onclick=\"convertToInteractive('df-2126db68-8e91-46d9-ac69-ae6297958b39')\"\n",
              "            title=\"Convert this dataframe to an interactive table.\"\n",
              "            style=\"display:none;\">\n",
              "\n",
              "  <svg xmlns=\"http://www.w3.org/2000/svg\" height=\"24px\" viewBox=\"0 -960 960 960\">\n",
              "    <path d=\"M120-120v-720h720v720H120Zm60-500h600v-160H180v160Zm220 220h160v-160H400v160Zm0 220h160v-160H400v160ZM180-400h160v-160H180v160Zm440 0h160v-160H620v160ZM180-180h160v-160H180v160Zm440 0h160v-160H620v160Z\"/>\n",
              "  </svg>\n",
              "    </button>\n",
              "\n",
              "  <style>\n",
              "    .colab-df-container {\n",
              "      display:flex;\n",
              "      gap: 12px;\n",
              "    }\n",
              "\n",
              "    .colab-df-convert {\n",
              "      background-color: #E8F0FE;\n",
              "      border: none;\n",
              "      border-radius: 50%;\n",
              "      cursor: pointer;\n",
              "      display: none;\n",
              "      fill: #1967D2;\n",
              "      height: 32px;\n",
              "      padding: 0 0 0 0;\n",
              "      width: 32px;\n",
              "    }\n",
              "\n",
              "    .colab-df-convert:hover {\n",
              "      background-color: #E2EBFA;\n",
              "      box-shadow: 0px 1px 2px rgba(60, 64, 67, 0.3), 0px 1px 3px 1px rgba(60, 64, 67, 0.15);\n",
              "      fill: #174EA6;\n",
              "    }\n",
              "\n",
              "    .colab-df-buttons div {\n",
              "      margin-bottom: 4px;\n",
              "    }\n",
              "\n",
              "    [theme=dark] .colab-df-convert {\n",
              "      background-color: #3B4455;\n",
              "      fill: #D2E3FC;\n",
              "    }\n",
              "\n",
              "    [theme=dark] .colab-df-convert:hover {\n",
              "      background-color: #434B5C;\n",
              "      box-shadow: 0px 1px 3px 1px rgba(0, 0, 0, 0.15);\n",
              "      filter: drop-shadow(0px 1px 2px rgba(0, 0, 0, 0.3));\n",
              "      fill: #FFFFFF;\n",
              "    }\n",
              "  </style>\n",
              "\n",
              "    <script>\n",
              "      const buttonEl =\n",
              "        document.querySelector('#df-2126db68-8e91-46d9-ac69-ae6297958b39 button.colab-df-convert');\n",
              "      buttonEl.style.display =\n",
              "        google.colab.kernel.accessAllowed ? 'block' : 'none';\n",
              "\n",
              "      async function convertToInteractive(key) {\n",
              "        const element = document.querySelector('#df-2126db68-8e91-46d9-ac69-ae6297958b39');\n",
              "        const dataTable =\n",
              "          await google.colab.kernel.invokeFunction('convertToInteractive',\n",
              "                                                    [key], {});\n",
              "        if (!dataTable) return;\n",
              "\n",
              "        const docLinkHtml = 'Like what you see? Visit the ' +\n",
              "          '<a target=\"_blank\" href=https://colab.research.google.com/notebooks/data_table.ipynb>data table notebook</a>'\n",
              "          + ' to learn more about interactive tables.';\n",
              "        element.innerHTML = '';\n",
              "        dataTable['output_type'] = 'display_data';\n",
              "        await google.colab.output.renderOutput(dataTable, element);\n",
              "        const docLink = document.createElement('div');\n",
              "        docLink.innerHTML = docLinkHtml;\n",
              "        element.appendChild(docLink);\n",
              "      }\n",
              "    </script>\n",
              "  </div>\n",
              "\n",
              "\n",
              "<div id=\"df-d3f51645-e0a9-400e-8ff3-e57489017470\">\n",
              "  <button class=\"colab-df-quickchart\" onclick=\"quickchart('df-d3f51645-e0a9-400e-8ff3-e57489017470')\"\n",
              "            title=\"Suggest charts\"\n",
              "            style=\"display:none;\">\n",
              "\n",
              "<svg xmlns=\"http://www.w3.org/2000/svg\" height=\"24px\"viewBox=\"0 0 24 24\"\n",
              "     width=\"24px\">\n",
              "    <g>\n",
              "        <path d=\"M19 3H5c-1.1 0-2 .9-2 2v14c0 1.1.9 2 2 2h14c1.1 0 2-.9 2-2V5c0-1.1-.9-2-2-2zM9 17H7v-7h2v7zm4 0h-2V7h2v10zm4 0h-2v-4h2v4z\"/>\n",
              "    </g>\n",
              "</svg>\n",
              "  </button>\n",
              "\n",
              "<style>\n",
              "  .colab-df-quickchart {\n",
              "      --bg-color: #E8F0FE;\n",
              "      --fill-color: #1967D2;\n",
              "      --hover-bg-color: #E2EBFA;\n",
              "      --hover-fill-color: #174EA6;\n",
              "      --disabled-fill-color: #AAA;\n",
              "      --disabled-bg-color: #DDD;\n",
              "  }\n",
              "\n",
              "  [theme=dark] .colab-df-quickchart {\n",
              "      --bg-color: #3B4455;\n",
              "      --fill-color: #D2E3FC;\n",
              "      --hover-bg-color: #434B5C;\n",
              "      --hover-fill-color: #FFFFFF;\n",
              "      --disabled-bg-color: #3B4455;\n",
              "      --disabled-fill-color: #666;\n",
              "  }\n",
              "\n",
              "  .colab-df-quickchart {\n",
              "    background-color: var(--bg-color);\n",
              "    border: none;\n",
              "    border-radius: 50%;\n",
              "    cursor: pointer;\n",
              "    display: none;\n",
              "    fill: var(--fill-color);\n",
              "    height: 32px;\n",
              "    padding: 0;\n",
              "    width: 32px;\n",
              "  }\n",
              "\n",
              "  .colab-df-quickchart:hover {\n",
              "    background-color: var(--hover-bg-color);\n",
              "    box-shadow: 0 1px 2px rgba(60, 64, 67, 0.3), 0 1px 3px 1px rgba(60, 64, 67, 0.15);\n",
              "    fill: var(--button-hover-fill-color);\n",
              "  }\n",
              "\n",
              "  .colab-df-quickchart-complete:disabled,\n",
              "  .colab-df-quickchart-complete:disabled:hover {\n",
              "    background-color: var(--disabled-bg-color);\n",
              "    fill: var(--disabled-fill-color);\n",
              "    box-shadow: none;\n",
              "  }\n",
              "\n",
              "  .colab-df-spinner {\n",
              "    border: 2px solid var(--fill-color);\n",
              "    border-color: transparent;\n",
              "    border-bottom-color: var(--fill-color);\n",
              "    animation:\n",
              "      spin 1s steps(1) infinite;\n",
              "  }\n",
              "\n",
              "  @keyframes spin {\n",
              "    0% {\n",
              "      border-color: transparent;\n",
              "      border-bottom-color: var(--fill-color);\n",
              "      border-left-color: var(--fill-color);\n",
              "    }\n",
              "    20% {\n",
              "      border-color: transparent;\n",
              "      border-left-color: var(--fill-color);\n",
              "      border-top-color: var(--fill-color);\n",
              "    }\n",
              "    30% {\n",
              "      border-color: transparent;\n",
              "      border-left-color: var(--fill-color);\n",
              "      border-top-color: var(--fill-color);\n",
              "      border-right-color: var(--fill-color);\n",
              "    }\n",
              "    40% {\n",
              "      border-color: transparent;\n",
              "      border-right-color: var(--fill-color);\n",
              "      border-top-color: var(--fill-color);\n",
              "    }\n",
              "    60% {\n",
              "      border-color: transparent;\n",
              "      border-right-color: var(--fill-color);\n",
              "    }\n",
              "    80% {\n",
              "      border-color: transparent;\n",
              "      border-right-color: var(--fill-color);\n",
              "      border-bottom-color: var(--fill-color);\n",
              "    }\n",
              "    90% {\n",
              "      border-color: transparent;\n",
              "      border-bottom-color: var(--fill-color);\n",
              "    }\n",
              "  }\n",
              "</style>\n",
              "\n",
              "  <script>\n",
              "    async function quickchart(key) {\n",
              "      const quickchartButtonEl =\n",
              "        document.querySelector('#' + key + ' button');\n",
              "      quickchartButtonEl.disabled = true;  // To prevent multiple clicks.\n",
              "      quickchartButtonEl.classList.add('colab-df-spinner');\n",
              "      try {\n",
              "        const charts = await google.colab.kernel.invokeFunction(\n",
              "            'suggestCharts', [key], {});\n",
              "      } catch (error) {\n",
              "        console.error('Error during call to suggestCharts:', error);\n",
              "      }\n",
              "      quickchartButtonEl.classList.remove('colab-df-spinner');\n",
              "      quickchartButtonEl.classList.add('colab-df-quickchart-complete');\n",
              "    }\n",
              "    (() => {\n",
              "      let quickchartButtonEl =\n",
              "        document.querySelector('#df-d3f51645-e0a9-400e-8ff3-e57489017470 button');\n",
              "      quickchartButtonEl.style.display =\n",
              "        google.colab.kernel.accessAllowed ? 'block' : 'none';\n",
              "    })();\n",
              "  </script>\n",
              "</div>\n",
              "\n",
              "    </div>\n",
              "  </div>\n"
            ]
          },
          "metadata": {},
          "execution_count": 47
        }
      ]
    },
    {
      "cell_type": "code",
      "source": [
        "df.shape"
      ],
      "metadata": {
        "colab": {
          "base_uri": "https://localhost:8080/"
        },
        "id": "xxiPiAomhkjn",
        "outputId": "46256a40-f8a4-44f9-917b-03fff57876ee"
      },
      "execution_count": 36,
      "outputs": [
        {
          "output_type": "execute_result",
          "data": {
            "text/plain": [
              "(891, 12)"
            ]
          },
          "metadata": {},
          "execution_count": 36
        }
      ]
    },
    {
      "cell_type": "markdown",
      "source": [
        "# 1.Countplot\n"
      ],
      "metadata": {
        "id": "bPPubDfTptaa"
      }
    },
    {
      "cell_type": "code",
      "source": [
        "#sns.countplot(df['Survived'])\n",
        "df['Survived'].value_counts()"
      ],
      "metadata": {
        "id": "dfPdy4uehvhZ",
        "colab": {
          "base_uri": "https://localhost:8080/"
        },
        "outputId": "0f4ec525-4cc0-45fa-e953-89b0a790aac3"
      },
      "execution_count": 37,
      "outputs": [
        {
          "output_type": "execute_result",
          "data": {
            "text/plain": [
              "0    549\n",
              "1    342\n",
              "Name: Survived, dtype: int64"
            ]
          },
          "metadata": {},
          "execution_count": 37
        }
      ]
    },
    {
      "cell_type": "code",
      "source": [
        "df['Survived'].value_counts().plot(kind= 'bar')"
      ],
      "metadata": {
        "colab": {
          "base_uri": "https://localhost:8080/",
          "height": 443
        },
        "id": "YvFwSkVZqCCb",
        "outputId": "aa405327-9e0b-4901-cbd7-55ae3410219c"
      },
      "execution_count": 38,
      "outputs": [
        {
          "output_type": "execute_result",
          "data": {
            "text/plain": [
              "<Axes: >"
            ]
          },
          "metadata": {},
          "execution_count": 38
        },
        {
          "output_type": "display_data",
          "data": {
            "text/plain": [
              "<Figure size 640x480 with 1 Axes>"
            ],
            "image/png": "[encoded data removed]"
          },
          "metadata": {}
        }
      ]
    },
    {
      "cell_type": "code",
      "source": [
        "sns.countplot(df, x='Embarked')"
      ],
      "metadata": {
        "colab": {
          "base_uri": "https://localhost:8080/",
          "height": 467
        },
        "id": "FzyVnQjpzImp",
        "outputId": "8cdcc276-7287-49d3-b071-a5374dd4068a"
      },
      "execution_count": 88,
      "outputs": [
        {
          "output_type": "execute_result",
          "data": {
            "text/plain": [
              "<Axes: xlabel='Embarked', ylabel='count'>"
            ]
          },
          "metadata": {},
          "execution_count": 88
        },
        {
          "output_type": "display_data",
          "data": {
            "text/plain": [
              "<Figure size 640x480 with 1 Axes>"
            ],
            "image/png": "[encoded data removed]"
          },
          "metadata": {}
        }
      ]
    },
    {
      "cell_type": "code",
      "source": [
        "sns.countplot(df, x=\"Embarked\", hue=\"Survived\")"
      ],
      "metadata": {
        "colab": {
          "base_uri": "https://localhost:8080/",
          "height": 467
        },
        "id": "6zNxpaTK3SuC",
        "outputId": "00731219-f610-49c3-8bfd-509ec4adbfeb"
      },
      "execution_count": 91,
      "outputs": [
        {
          "output_type": "execute_result",
          "data": {
            "text/plain": [
              "<Axes: xlabel='Embarked', ylabel='count'>"
            ]
          },
          "metadata": {},
          "execution_count": 91
        },
        {
          "output_type": "display_data",
          "data": {
            "text/plain": [
              "<Figure size 640x480 with 1 Axes>"
            ],
            "image/png": "[encoded data removed]"
          },
          "metadata": {}
        }
      ]
    },
    {
      "cell_type": "code",
      "source": [
        "sns.countplot(df, x='Pclass')"
      ],
      "metadata": {
        "colab": {
          "base_uri": "https://localhost:8080/",
          "height": 467
        },
        "id": "qREQR4PS3CYH",
        "outputId": "a0dc6ec2-3994-4b32-92d0-28d1469c95d0"
      },
      "execution_count": 89,
      "outputs": [
        {
          "output_type": "execute_result",
          "data": {
            "text/plain": [
              "<Axes: xlabel='Pclass', ylabel='count'>"
            ]
          },
          "metadata": {},
          "execution_count": 89
        },
        {
          "output_type": "display_data",
          "data": {
            "text/plain": [
              "<Figure size 640x480 with 1 Axes>"
            ],
            "image/png": "[encoded data removed]"
          },
          "metadata": {}
        }
      ]
    },
    {
      "cell_type": "code",
      "source": [
        "df['Pclass'].head()"
      ],
      "metadata": {
        "colab": {
          "base_uri": "https://localhost:8080/"
        },
        "id": "18vuyVcxu6EU",
        "outputId": "bd3b17dc-2c6b-433e-9bca-feb34baf92bb"
      },
      "execution_count": 43,
      "outputs": [
        {
          "output_type": "execute_result",
          "data": {
            "text/plain": [
              "0    3\n",
              "1    1\n",
              "2    3\n",
              "3    1\n",
              "4    3\n",
              "Name: Pclass, dtype: int64"
            ]
          },
          "metadata": {},
          "execution_count": 43
        }
      ]
    },
    {
      "cell_type": "markdown",
      "source": [
        "# b. PieChart"
      ],
      "metadata": {
        "id": "TiQ2Dky6-oUJ"
      }
    },
    {
      "cell_type": "code",
      "source": [
        "#sns.countplot(df['Embarked'])\n",
        "df['Pclass'].value_counts().plot(kind= 'pie', autopct='%.2f')\n"
      ],
      "metadata": {
        "colab": {
          "base_uri": "https://localhost:8080/",
          "height": 424
        },
        "id": "AN9wdHZSvAOu",
        "outputId": "08016af2-6e6f-4061-b20b-72997692574c"
      },
      "execution_count": 80,
      "outputs": [
        {
          "output_type": "execute_result",
          "data": {
            "text/plain": [
              "<Axes: ylabel='Pclass'>"
            ]
          },
          "metadata": {},
          "execution_count": 80
        },
        {
          "output_type": "display_data",
          "data": {
            "text/plain": [
              "<Figure size 640x480 with 1 Axes>"
            ],
            "image/png": "[encoded data removed]"
          },
          "metadata": {}
        }
      ]
    },
    {
      "cell_type": "code",
      "source": [
        "\n",
        "\n",
        "#sns.countplot(df['Pclass'])\n",
        "df['Pclass'].value_counts().plot(kind= 'pie')\n"
      ],
      "metadata": {
        "colab": {
          "base_uri": "https://localhost:8080/",
          "height": 424
        },
        "id": "wWpeXdNYu6qy",
        "outputId": "c565fd44-9bdb-4b12-e816-eb95f9f9227a"
      },
      "execution_count": 75,
      "outputs": [
        {
          "output_type": "execute_result",
          "data": {
            "text/plain": [
              "<Axes: ylabel='Pclass'>"
            ]
          },
          "metadata": {},
          "execution_count": 75
        },
        {
          "output_type": "display_data",
          "data": {
            "text/plain": [
              "<Figure size 640x480 with 1 Axes>"
            ],
            "image/png": "[encoded data removed]"
          },
          "metadata": {}
        }
      ]
    },
    {
      "cell_type": "code",
      "source": [
        "df['Sex'].value_counts().plot(kind='pie',autopct='%.2f')\n"
      ],
      "metadata": {
        "colab": {
          "base_uri": "https://localhost:8080/",
          "height": 424
        },
        "id": "VAoxXNLezgDE",
        "outputId": "1988abc5-d327-4212-9fff-1e58ce4bd7bb"
      },
      "execution_count": 64,
      "outputs": [
        {
          "output_type": "execute_result",
          "data": {
            "text/plain": [
              "<Axes: ylabel='Sex'>"
            ]
          },
          "metadata": {},
          "execution_count": 64
        },
        {
          "output_type": "display_data",
          "data": {
            "text/plain": [
              "<Figure size 640x480 with 1 Axes>"
            ],
            "image/png": "[encoded data removed]"
          },
          "metadata": {}
        }
      ]
    },
    {
      "cell_type": "markdown",
      "source": [
        "**Histogram ploting techanique on the numeric data**"
      ],
      "metadata": {
        "id": "KMEzNiQM_SsJ"
      }
    },
    {
      "cell_type": "code",
      "source": [
        "import matplotlib.pyplot as plt\n",
        "plt.hist(df['Age'],bins=5)"
      ],
      "metadata": {
        "colab": {
          "base_uri": "https://localhost:8080/",
          "height": 485
        },
        "id": "ljY1MHXCz1MN",
        "outputId": "6345b85a-ee75-4045-eae2-c5571a4412fc"
      },
      "execution_count": 65,
      "outputs": [
        {
          "output_type": "execute_result",
          "data": {
            "text/plain": [
              "(array([100., 346., 188.,  69.,  11.]),\n",
              " array([ 0.42 , 16.336, 32.252, 48.168, 64.084, 80.   ]),\n",
              " <BarContainer object of 5 artists>)"
            ]
          },
          "metadata": {},
          "execution_count": 65
        },
        {
          "output_type": "display_data",
          "data": {
            "text/plain": [
              "<Figure size 640x480 with 1 Axes>"
            ],
            "image/png": "[encoded data removed]"
          },
          "metadata": {}
        }
      ]
    },
    {
      "cell_type": "code",
      "source": [
        "import matplotlib.pyplot as plt\n",
        "plt.hist(df['Age'],bins=500)"
      ],
      "metadata": {
        "colab": {
          "base_uri": "https://localhost:8080/",
          "height": 1000
        },
        "id": "Gc-Tdo1P_v9B",
        "outputId": "3d175757-fb5d-46ba-e612-99bb625f5c5e"
      },
      "execution_count": 92,
      "outputs": [
        {
          "output_type": "execute_result",
          "data": {
            "text/plain": [
              "(array([ 1.,  1.,  4.,  8.,  0.,  0.,  0.,  0.,  0., 10.,  0.,  0.,  0.,\n",
              "         0.,  0.,  0.,  6.,  0.,  0.,  0.,  0.,  0., 10.,  0.,  0.,  0.,\n",
              "         0.,  0.,  4.,  0.,  0.,  0.,  0.,  0.,  0.,  3.,  0.,  0.,  0.,\n",
              "         0.,  0.,  3.,  0.,  0.,  0.,  0.,  0.,  4.,  0.,  0.,  0.,  0.,\n",
              "         0.,  8.,  0.,  0.,  0.,  0.,  0.,  0.,  2.,  0.,  0.,  0.,  0.,\n",
              "         0.,  4.,  0.,  0.,  0.,  0.,  0.,  1.,  0.,  0.,  0.,  0.,  0.,\n",
              "         0.,  2.,  0.,  0.,  0.,  0.,  0.,  6.,  0.,  0.,  1.,  0.,  0.,\n",
              "         5.,  0.,  0.,  0.,  0.,  0., 17.,  0.,  0.,  0.,  0.,  0.,  0.,\n",
              "        13.,  0.,  0.,  0.,  0.,  0., 26.,  0.,  0.,  0.,  0.,  0., 25.,\n",
              "         0.,  0.,  0.,  0.,  0.,  0., 15.,  0.,  0.,  1.,  0.,  0., 24.,\n",
              "         0.,  0.,  0.,  0.,  0., 27.,  0.,  0.,  0.,  0.,  0., 15.,  0.,\n",
              "         0.,  0.,  1.,  0.,  0., 30.,  0.,  0.,  1.,  0.,  0., 23.,  0.,\n",
              "         0.,  0.,  0.,  0., 18.,  0.,  0.,  0.,  0.,  0.,  0., 18.,  0.,\n",
              "         0.,  0.,  0.,  0., 25.,  0.,  0.,  2.,  0.,  0., 20.,  0.,  0.,\n",
              "         0.,  0.,  0., 25.,  0.,  0.,  2.,  0.,  0.,  0., 17.,  0.,  0.,\n",
              "         0.,  0.,  0., 18.,  0.,  0.,  2.,  0.,  0., 15.,  0.,  0.,  0.,\n",
              "         0.,  0., 15.,  0.,  0.,  0.,  1.,  0.,  0., 18.,  0.,  0.,  0.,\n",
              "         0.,  0., 22.,  0.,  0.,  1.,  0.,  0.,  6.,  0.,  0.,  0.,  0.,\n",
              "         0.,  0., 11.,  0.,  0.,  0.,  0.,  0., 14.,  0.,  0.,  0.,  0.,\n",
              "         0., 13.,  0.,  0.,  2.,  0.,  0.,  6.,  0.,  0.,  0.,  0.,  0.,\n",
              "         0., 13.,  0.,  0.,  0.,  0.,  0.,  5.,  0.,  0.,  0.,  0.,  0.,\n",
              "         9.,  0.,  0.,  0.,  0.,  0.,  0., 12.,  0.,  0.,  2.,  0.,  0.,\n",
              "         3.,  0.,  0.,  0.,  0.,  0.,  9.,  0.,  0.,  0.,  0.,  0.,  9.,\n",
              "         0.,  0.,  0.,  0.,  0.,  0.,  6.,  0.,  0.,  0.,  0.,  0., 10.,\n",
              "         0.,  0.,  0.,  0.,  0.,  7.,  0.,  0.,  0.,  0.,  0.,  0.,  6.,\n",
              "         0.,  0.,  0.,  0.,  0.,  1.,  0.,  0.,  0.,  0.,  0.,  8.,  0.,\n",
              "         0.,  0.,  0.,  0.,  2.,  0.,  0.,  0.,  1.,  0.,  0.,  4.,  0.,\n",
              "         0.,  0.,  0.,  0.,  2.,  0.,  0.,  0.,  0.,  0.,  5.,  0.,  0.,\n",
              "         0.,  0.,  0.,  0.,  2.,  0.,  0.,  0.,  0.,  0.,  4.,  0.,  0.,\n",
              "         0.,  0.,  0.,  3.,  0.,  0.,  0.,  0.,  0.,  4.,  0.,  0.,  0.,\n",
              "         0.,  0.,  0.,  2.,  0.,  0.,  0.,  0.,  0.,  2.,  0.,  0.,  0.,\n",
              "         0.,  0.,  3.,  0.,  0.,  0.,  0.,  0.,  0.,  1.,  0.,  0.,  0.,\n",
              "         0.,  0.,  0.,  0.,  0.,  0.,  0.,  0.,  0.,  0.,  0.,  0.,  0.,\n",
              "         0.,  0.,  0.,  0.,  0.,  0.,  0.,  0.,  2.,  0.,  0.,  1.,  0.,\n",
              "         0.,  2.,  0.,  0.,  0.,  0.,  0.,  0.,  0.,  0.,  0.,  0.,  0.,\n",
              "         0.,  0.,  0.,  0.,  0.,  0.,  0.,  1.,  0.,  0.,  0.,  0.,  0.,\n",
              "         0.,  0.,  0.,  0.,  0.,  0.,  0.,  0.,  0.,  0.,  0.,  0.,  0.,\n",
              "         0.,  0.,  0.,  0.,  0.,  0.,  0.,  0.,  0.,  0.,  0.,  0.,  0.,\n",
              "         0.,  0.,  0.,  0.,  0.,  1.]),\n",
              " array([ 0.42   ,  0.57916,  0.73832,  0.89748,  1.05664,  1.2158 ,\n",
              "         1.37496,  1.53412,  1.69328,  1.85244,  2.0116 ,  2.17076,\n",
              "         2.32992,  2.48908,  2.64824,  2.8074 ,  2.96656,  3.12572,\n",
              "         3.28488,  3.44404,  3.6032 ,  3.76236,  3.92152,  4.08068,\n",
              "         4.23984,  4.399  ,  4.55816,  4.71732,  4.87648,  5.03564,\n",
              "         5.1948 ,  5.35396,  5.51312,  5.67228,  5.83144,  5.9906 ,\n",
              "         6.14976,  6.30892,  6.46808,  6.62724,  6.7864 ,  6.94556,\n",
              "         7.10472,  7.26388,  7.42304,  7.5822 ,  7.74136,  7.90052,\n",
              "         8.05968,  8.21884,  8.378  ,  8.53716,  8.69632,  8.85548,\n",
              "         9.01464,  9.1738 ,  9.33296,  9.49212,  9.65128,  9.81044,\n",
              "         9.9696 , 10.12876, 10.28792, 10.44708, 10.60624, 10.7654 ,\n",
              "        10.92456, 11.08372, 11.24288, 11.40204, 11.5612 , 11.72036,\n",
              "        11.87952, 12.03868, 12.19784, 12.357  , 12.51616, 12.67532,\n",
              "        12.83448, 12.99364, 13.1528 , 13.31196, 13.47112, 13.63028,\n",
              "        13.78944, 13.9486 , 14.10776, 14.26692, 14.42608, 14.58524,\n",
              "        14.7444 , 14.90356, 15.06272, 15.22188, 15.38104, 15.5402 ,\n",
              "        15.69936, 15.85852, 16.01768, 16.17684, 16.336  , 16.49516,\n",
              "        16.65432, 16.81348, 16.97264, 17.1318 , 17.29096, 17.45012,\n",
              "        17.60928, 17.76844, 17.9276 , 18.08676, 18.24592, 18.40508,\n",
              "        18.56424, 18.7234 , 18.88256, 19.04172, 19.20088, 19.36004,\n",
              "        19.5192 , 19.67836, 19.83752, 19.99668, 20.15584, 20.315  ,\n",
              "        20.47416, 20.63332, 20.79248, 20.95164, 21.1108 , 21.26996,\n",
              "        21.42912, 21.58828, 21.74744, 21.9066 , 22.06576, 22.22492,\n",
              "        22.38408, 22.54324, 22.7024 , 22.86156, 23.02072, 23.17988,\n",
              "        23.33904, 23.4982 , 23.65736, 23.81652, 23.97568, 24.13484,\n",
              "        24.294  , 24.45316, 24.61232, 24.77148, 24.93064, 25.0898 ,\n",
              "        25.24896, 25.40812, 25.56728, 25.72644, 25.8856 , 26.04476,\n",
              "        26.20392, 26.36308, 26.52224, 26.6814 , 26.84056, 26.99972,\n",
              "        27.15888, 27.31804, 27.4772 , 27.63636, 27.79552, 27.95468,\n",
              "        28.11384, 28.273  , 28.43216, 28.59132, 28.75048, 28.90964,\n",
              "        29.0688 , 29.22796, 29.38712, 29.54628, 29.70544, 29.8646 ,\n",
              "        30.02376, 30.18292, 30.34208, 30.50124, 30.6604 , 30.81956,\n",
              "        30.97872, 31.13788, 31.29704, 31.4562 , 31.61536, 31.77452,\n",
              "        31.93368, 32.09284, 32.252  , 32.41116, 32.57032, 32.72948,\n",
              "        32.88864, 33.0478 , 33.20696, 33.36612, 33.52528, 33.68444,\n",
              "        33.8436 , 34.00276, 34.16192, 34.32108, 34.48024, 34.6394 ,\n",
              "        34.79856, 34.95772, 35.11688, 35.27604, 35.4352 , 35.59436,\n",
              "        35.75352, 35.91268, 36.07184, 36.231  , 36.39016, 36.54932,\n",
              "        36.70848, 36.86764, 37.0268 , 37.18596, 37.34512, 37.50428,\n",
              "        37.66344, 37.8226 , 37.98176, 38.14092, 38.30008, 38.45924,\n",
              "        38.6184 , 38.77756, 38.93672, 39.09588, 39.25504, 39.4142 ,\n",
              "        39.57336, 39.73252, 39.89168, 40.05084, 40.21   , 40.36916,\n",
              "        40.52832, 40.68748, 40.84664, 41.0058 , 41.16496, 41.32412,\n",
              "        41.48328, 41.64244, 41.8016 , 41.96076, 42.11992, 42.27908,\n",
              "        42.43824, 42.5974 , 42.75656, 42.91572, 43.07488, 43.23404,\n",
              "        43.3932 , 43.55236, 43.71152, 43.87068, 44.02984, 44.189  ,\n",
              "        44.34816, 44.50732, 44.66648, 44.82564, 44.9848 , 45.14396,\n",
              "        45.30312, 45.46228, 45.62144, 45.7806 , 45.93976, 46.09892,\n",
              "        46.25808, 46.41724, 46.5764 , 46.73556, 46.89472, 47.05388,\n",
              "        47.21304, 47.3722 , 47.53136, 47.69052, 47.84968, 48.00884,\n",
              "        48.168  , 48.32716, 48.48632, 48.64548, 48.80464, 48.9638 ,\n",
              "        49.12296, 49.28212, 49.44128, 49.60044, 49.7596 , 49.91876,\n",
              "        50.07792, 50.23708, 50.39624, 50.5554 , 50.71456, 50.87372,\n",
              "        51.03288, 51.19204, 51.3512 , 51.51036, 51.66952, 51.82868,\n",
              "        51.98784, 52.147  , 52.30616, 52.46532, 52.62448, 52.78364,\n",
              "        52.9428 , 53.10196, 53.26112, 53.42028, 53.57944, 53.7386 ,\n",
              "        53.89776, 54.05692, 54.21608, 54.37524, 54.5344 , 54.69356,\n",
              "        54.85272, 55.01188, 55.17104, 55.3302 , 55.48936, 55.64852,\n",
              "        55.80768, 55.96684, 56.126  , 56.28516, 56.44432, 56.60348,\n",
              "        56.76264, 56.9218 , 57.08096, 57.24012, 57.39928, 57.55844,\n",
              "        57.7176 , 57.87676, 58.03592, 58.19508, 58.35424, 58.5134 ,\n",
              "        58.67256, 58.83172, 58.99088, 59.15004, 59.3092 , 59.46836,\n",
              "        59.62752, 59.78668, 59.94584, 60.105  , 60.26416, 60.42332,\n",
              "        60.58248, 60.74164, 60.9008 , 61.05996, 61.21912, 61.37828,\n",
              "        61.53744, 61.6966 , 61.85576, 62.01492, 62.17408, 62.33324,\n",
              "        62.4924 , 62.65156, 62.81072, 62.96988, 63.12904, 63.2882 ,\n",
              "        63.44736, 63.60652, 63.76568, 63.92484, 64.084  , 64.24316,\n",
              "        64.40232, 64.56148, 64.72064, 64.8798 , 65.03896, 65.19812,\n",
              "        65.35728, 65.51644, 65.6756 , 65.83476, 65.99392, 66.15308,\n",
              "        66.31224, 66.4714 , 66.63056, 66.78972, 66.94888, 67.10804,\n",
              "        67.2672 , 67.42636, 67.58552, 67.74468, 67.90384, 68.063  ,\n",
              "        68.22216, 68.38132, 68.54048, 68.69964, 68.8588 , 69.01796,\n",
              "        69.17712, 69.33628, 69.49544, 69.6546 , 69.81376, 69.97292,\n",
              "        70.13208, 70.29124, 70.4504 , 70.60956, 70.76872, 70.92788,\n",
              "        71.08704, 71.2462 , 71.40536, 71.56452, 71.72368, 71.88284,\n",
              "        72.042  , 72.20116, 72.36032, 72.51948, 72.67864, 72.8378 ,\n",
              "        72.99696, 73.15612, 73.31528, 73.47444, 73.6336 , 73.79276,\n",
              "        73.95192, 74.11108, 74.27024, 74.4294 , 74.58856, 74.74772,\n",
              "        74.90688, 75.06604, 75.2252 , 75.38436, 75.54352, 75.70268,\n",
              "        75.86184, 76.021  , 76.18016, 76.33932, 76.49848, 76.65764,\n",
              "        76.8168 , 76.97596, 77.13512, 77.29428, 77.45344, 77.6126 ,\n",
              "        77.77176, 77.93092, 78.09008, 78.24924, 78.4084 , 78.56756,\n",
              "        78.72672, 78.88588, 79.04504, 79.2042 , 79.36336, 79.52252,\n",
              "        79.68168, 79.84084, 80.     ]),\n",
              " <BarContainer object of 500 artists>)"
            ]
          },
          "metadata": {},
          "execution_count": 92
        },
        {
          "output_type": "display_data",
          "data": {
            "text/plain": [
              "<Figure size 640x480 with 1 Axes>"
            ],
            "image/png": "[encoded data removed]"
          },
          "metadata": {}
        }
      ]
    },
    {
      "cell_type": "code",
      "source": [
        "sns.boxplot(df['Age'])"
      ],
      "metadata": {
        "colab": {
          "base_uri": "https://localhost:8080/",
          "height": 448
        },
        "id": "LvhCWKSbz8w4",
        "outputId": "aa11d3a1-29ff-4602-dac1-205200fe86d8"
      },
      "execution_count": 67,
      "outputs": [
        {
          "output_type": "execute_result",
          "data": {
            "text/plain": [
              "<Axes: >"
            ]
          },
          "metadata": {},
          "execution_count": 67
        },
        {
          "output_type": "display_data",
          "data": {
            "text/plain": [
              "<Figure size 640x480 with 1 Axes>"
            ],
            "image/png": "[encoded data removed]"
          },
          "metadata": {}
        }
      ]
    },
    {
      "cell_type": "code",
      "source": [
        "sns.distplot(df['Age'])"
      ],
      "metadata": {
        "colab": {
          "base_uri": "https://localhost:8080/",
          "height": 689
        },
        "id": "NkUnbgwyAse7",
        "outputId": "8d7d0a00-2c90-4d50-a719-a6de06a91b3e"
      },
      "execution_count": 94,
      "outputs": [
        {
          "output_type": "stream",
          "name": "stderr",
          "text": [
            "<ipython-input-94-0fafe04ea3f6>:1: UserWarning: \n",
            "\n",
            "`distplot` is a deprecated function and will be removed in seaborn v0.14.0.\n",
            "\n",
            "Please adapt your code to use either `displot` (a figure-level function with\n",
            "similar flexibility) or `histplot` (an axes-level function for histograms).\n",
            "\n",
            "For a guide to updating your code to use the new functions, please see\n",
            "https://gist.github.com/mwaskom/de44147ed2974457ad6372750bbe5751\n",
            "\n",
            "  sns.distplot(df['Age'])\n"
          ]
        },
        {
          "output_type": "execute_result",
          "data": {
            "text/plain": [
              "<Axes: xlabel='Age', ylabel='Density'>"
            ]
          },
          "metadata": {},
          "execution_count": 94
        },
        {
          "output_type": "display_data",
          "data": {
            "text/plain": [
              "<Figure size 640x480 with 1 Axes>"
            ],
            "image/png": "[encoded data removed]"
          },
          "metadata": {}
        }
      ]
    },
    {
      "cell_type": "code",
      "source": [
        "sns.histplot(df['Age'])"
      ],
      "metadata": {
        "colab": {
          "base_uri": "https://localhost:8080/",
          "height": 467
        },
        "id": "73S8qmPKAeSY",
        "outputId": "0ccea1dd-eace-4386-e214-a785e639fe90"
      },
      "execution_count": 93,
      "outputs": [
        {
          "output_type": "execute_result",
          "data": {
            "text/plain": [
              "<Axes: xlabel='Age', ylabel='Count'>"
            ]
          },
          "metadata": {},
          "execution_count": 93
        },
        {
          "output_type": "display_data",
          "data": {
            "text/plain": [
              "<Figure size 640x480 with 1 Axes>"
            ],
            "image/png": "[encoded data removed]"
          },
          "metadata": {}
        }
      ]
    },
    {
      "cell_type": "code",
      "source": [
        "df['Age'].min()"
      ],
      "metadata": {
        "colab": {
          "base_uri": "https://localhost:8080/"
        },
        "id": "pBz4LK3Rz_t_",
        "outputId": "b4df2d69-523c-4515-a700-01e61eafc0d0"
      },
      "execution_count": 68,
      "outputs": [
        {
          "output_type": "execute_result",
          "data": {
            "text/plain": [
              "0.42"
            ]
          },
          "metadata": {},
          "execution_count": 68
        }
      ]
    },
    {
      "cell_type": "code",
      "source": [
        "df['Age'].max()"
      ],
      "metadata": {
        "colab": {
          "base_uri": "https://localhost:8080/"
        },
        "id": "HoWxcvu_0Don",
        "outputId": "2c8ef575-e9de-46d4-f300-fca920591d6c"
      },
      "execution_count": 69,
      "outputs": [
        {
          "output_type": "execute_result",
          "data": {
            "text/plain": [
              "80.0"
            ]
          },
          "metadata": {},
          "execution_count": 69
        }
      ]
    },
    {
      "cell_type": "code",
      "source": [
        "df['Age'].mean()"
      ],
      "metadata": {
        "colab": {
          "base_uri": "https://localhost:8080/"
        },
        "id": "_vO-jau50Fs9",
        "outputId": "6000a90d-5c0d-4830-abe2-527b37aa1c73"
      },
      "execution_count": 70,
      "outputs": [
        {
          "output_type": "execute_result",
          "data": {
            "text/plain": [
              "29.69911764705882"
            ]
          },
          "metadata": {},
          "execution_count": 70
        }
      ]
    },
    {
      "cell_type": "code",
      "source": [
        "df['Age'].skew()"
      ],
      "metadata": {
        "colab": {
          "base_uri": "https://localhost:8080/"
        },
        "id": "XH3s6LBb0H1j",
        "outputId": "24fec535-42da-4b09-fc50-19ae6f7dc560"
      },
      "execution_count": 71,
      "outputs": [
        {
          "output_type": "execute_result",
          "data": {
            "text/plain": [
              "0.38910778230082704"
            ]
          },
          "metadata": {},
          "execution_count": 71
        }
      ]
    },
    {
      "cell_type": "code",
      "source": [],
      "metadata": {
        "id": "CaFwbH5M2eVr"
      },
      "execution_count": null,
      "outputs": []
    }
  ]
}